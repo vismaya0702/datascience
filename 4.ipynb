{
 "cells": [
  {
   "cell_type": "code",
   "execution_count": 10,
   "id": "844b833a",
   "metadata": {},
   "outputs": [
    {
     "name": "stdout",
     "output_type": "stream",
     "text": [
      "[[1 2 3]\n",
      " [4 5 6]\n",
      " [7 8 9]]\n",
      "[[1 4 7]\n",
      " [2 5 8]\n",
      " [3 6 9]]\n"
     ]
    }
   ],
   "source": [
    "import numpy as np\n",
    "a=np.array([[1,2,3],[4,5,6],[7,8,9]])\n",
    "print(a)\n",
    "print(np.transpose(a)) #to get transpose\n",
    " "
   ]
  },
  {
   "cell_type": "code",
   "execution_count": 11,
   "id": "8aaaf156",
   "metadata": {},
   "outputs": [
    {
     "name": "stdout",
     "output_type": "stream",
     "text": [
      "15\n"
     ]
    }
   ],
   "source": [
    "a=np.array([[1,2,3],[4,5,6],[7,8,9]])\n",
    "print(np.trace(a)) #to get sum of diagonal elements"
   ]
  },
  {
   "cell_type": "code",
   "execution_count": 9,
   "id": "7b58c336",
   "metadata": {},
   "outputs": [
    {
     "name": "stdout",
     "output_type": "stream",
     "text": [
      "[[26 26 22]\n",
      " [62 42 44]\n",
      " [86 41 62]]\n"
     ]
    }
   ],
   "source": [
    "a=np.array([[1,3,2],[6,4,2],[4,2,7]])\n",
    "b=np.array([[7,2,4],[1,6,2],[8,3,6]])\n",
    "print(np.dot(a,b)) #to get product of 2 matrices"
   ]
  },
  {
   "cell_type": "code",
   "execution_count": null,
   "id": "7eb17da9",
   "metadata": {},
   "outputs": [
    {
     "name": "stdout",
     "output_type": "stream",
     "text": [
      "[[-0.66666667  0.20512821  0.28205128]\n",
      " [ 0.16666667 -0.08974359  0.06410256]\n",
      " [ 0.33333333  0.05128205 -0.17948718]]\n"
     ]
    }
   ],
   "source": [
    "a=np.array([[1,4,3],[4,2,7],[3,8,2]])\n",
    "print(np.linalg.inv(a)) #to get the inverse of a matrix"
   ]
  },
  {
   "cell_type": "code",
   "execution_count": null,
   "id": "6f8e90b2",
   "metadata": {},
   "outputs": [
    {
     "name": "stdout",
     "output_type": "stream",
     "text": [
      "3\n"
     ]
    }
   ],
   "source": [
    "a=np.array([[1,4,3],[4,2,7],[3,8,2]])\n",
    "print(np.linalg.matrix_rank(a)) #to get the rank of a matrix\n"
   ]
  },
  {
   "cell_type": "code",
   "execution_count": 13,
   "id": "23613546",
   "metadata": {},
   "outputs": [
    {
     "name": "stdout",
     "output_type": "stream",
     "text": [
      "EigResult(eigenvalues=array([11.76707427, -1.18816519, -5.57890908]), eigenvectors=array([[-0.41717085, -0.88667107,  0.10894851],\n",
      "       [-0.63607747,  0.15954142, -0.70487593],\n",
      "       [-0.64913322,  0.4340057 ,  0.70091379]]))\n",
      "[11.76707427 -1.18816519 -5.57890908]\n"
     ]
    }
   ],
   "source": [
    "a=np.array([[1,4,3],[4,2,7],[3,8,2]])\n",
    "print(np.linalg.eig(a))\n",
    "print(np.linalg.eigvals(a))"
   ]
  },
  {
   "cell_type": "code",
   "execution_count": null,
   "id": "a2b2afd9",
   "metadata": {},
   "outputs": [],
   "source": []
  }
 ],
 "metadata": {
  "kernelspec": {
   "display_name": "base",
   "language": "python",
   "name": "python3"
  },
  "language_info": {
   "codemirror_mode": {
    "name": "ipython",
    "version": 3
   },
   "file_extension": ".py",
   "mimetype": "text/x-python",
   "name": "python",
   "nbconvert_exporter": "python",
   "pygments_lexer": "ipython3",
   "version": "3.12.4"
  }
 },
 "nbformat": 4,
 "nbformat_minor": 5
}
