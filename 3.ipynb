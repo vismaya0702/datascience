{
 "cells": [
  {
   "cell_type": "code",
   "execution_count": null,
   "id": "2f2fcd1b",
   "metadata": {},
   "outputs": [
    {
     "name": "stdout",
     "output_type": "stream",
     "text": [
      "[ 1  2  3  4  5  6  7  8  9 10]\n"
     ]
    }
   ],
   "source": [
    "import numpy as np\n",
    "a=np.array((1,2,3,4,5))\n",
    "b=np.array((6,7,8,9,10))\n",
    "c=np.concatenate((a,b))    #to concatenate 2 array\n",
    "print(c)"
   ]
  },
  {
   "cell_type": "code",
   "execution_count": 11,
   "id": "a6af197e",
   "metadata": {},
   "outputs": [
    {
     "name": "stdout",
     "output_type": "stream",
     "text": [
      "[[1 2 3 9 8]\n",
      " [4 5 6 6 5]\n",
      " [7 8 9 3 2]]\n",
      "[[1 2 3]\n",
      " [4 5 6]\n",
      " [7 8 9]\n",
      " [9 8 7]\n",
      " [6 5 4]\n",
      " [3 2 1]]\n"
     ]
    }
   ],
   "source": [
    "#to concatenate 2 matrix\n",
    "a=np.array([[1,2,3],[4,5,6],[7,8,9]])\n",
    "b=np.array([[9,8],[6,5],[3,2]])\n",
    "c=np.concatenate((a,b),axis=1)\n",
    "print(c)\n",
    "\n",
    "d=np.array([[1,2,3],[4,5,6],[7,8,9]])\n",
    "e=np.array([[9,8,7],[6,5,4],[3,2,1]])\n",
    "f=np.concatenate((d,e))\n",
    "print(f)\n"
   ]
  },
  {
   "cell_type": "code",
   "execution_count": null,
   "id": "84222392",
   "metadata": {},
   "outputs": [
    {
     "name": "stdout",
     "output_type": "stream",
     "text": [
      "[1 2 3 4 5 6]\n",
      "(array([5], dtype=int64),)\n"
     ]
    }
   ],
   "source": [
    "a=np.array([1,6,3,6,5,6])\n",
    "print(a)\n",
    "x=np.where(a==6)   #to serach an element and get its index\n",
    "print(x)"
   ]
  },
  {
   "cell_type": "code",
   "execution_count": 17,
   "id": "34e6e6d3",
   "metadata": {},
   "outputs": [
    {
     "name": "stdout",
     "output_type": "stream",
     "text": [
      "[1 3]\n"
     ]
    }
   ],
   "source": [
    "a=np.array([1,2,3,2,4])\n",
    "x=np.where(a==2)\n",
    "print (x[0])"
   ]
  }
 ],
 "metadata": {
  "kernelspec": {
   "display_name": "base",
   "language": "python",
   "name": "python3"
  },
  "language_info": {
   "codemirror_mode": {
    "name": "ipython",
    "version": 3
   },
   "file_extension": ".py",
   "mimetype": "text/x-python",
   "name": "python",
   "nbconvert_exporter": "python",
   "pygments_lexer": "ipython3",
   "version": "3.12.4"
  }
 },
 "nbformat": 4,
 "nbformat_minor": 5
}
