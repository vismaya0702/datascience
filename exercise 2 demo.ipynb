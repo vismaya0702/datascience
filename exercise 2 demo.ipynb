{
 "cells": [
  {
   "cell_type": "markdown",
   "id": "35ff88c7",
   "metadata": {},
   "source": [
    "To perform dot product of a matrix\n"
   ]
  },
  {
   "cell_type": "code",
   "execution_count": 7,
   "id": "bdc1354d",
   "metadata": {},
   "outputs": [],
   "source": [
    "import numpy as np\n"
   ]
  },
  {
   "cell_type": "code",
   "execution_count": 19,
   "id": "6e19816a",
   "metadata": {},
   "outputs": [
    {
     "name": "stdout",
     "output_type": "stream",
     "text": [
      "Enter number of rows and columns for matrix 1:\n",
      "Enter number of rows and columns for matrix 2:\n",
      "Matrix 1:\n",
      "[[1. 2.]\n",
      " [2. 3.]]\n",
      "Matrix 2:\n",
      "[[4. 5.]\n",
      " [6. 7.]]\n"
     ]
    }
   ],
   "source": [
    "import numpy as np\n",
    "\n",
    "print(\"Enter number of rows and columns for matrix 1:\")\n",
    "r = int(input(\"Rows: \"))\n",
    "c = int(input(\"Columns: \"))\n",
    "a = []\n",
    "for _ in range(r):\n",
    "    row = list(map(float, input().split()))\n",
    "    a.append(row)\n",
    "a1 = np.array(a)\n",
    "\n",
    "print(\"Enter number of rows and columns for matrix 2:\")\n",
    "r1 = int(input(\"Rows: \"))\n",
    "c1 = int(input(\"Columns: \"))\n",
    "b = []\n",
    "for _ in range(r1):\n",
    "    row = list(map(float, input().split()))\n",
    "    b.append(row)\n",
    "b1 = np.array(b)\n",
    "\n",
    "print(\"Matrix 1:\")\n",
    "print(a1)\n",
    "print(\"Matrix 2:\")\n",
    "print(b1)\n",
    "\n",
    "\n"
   ]
  }
 ],
 "metadata": {
  "kernelspec": {
   "display_name": "base",
   "language": "python",
   "name": "python3"
  },
  "language_info": {
   "codemirror_mode": {
    "name": "ipython",
    "version": 3
   },
   "file_extension": ".py",
   "mimetype": "text/x-python",
   "name": "python",
   "nbconvert_exporter": "python",
   "pygments_lexer": "ipython3",
   "version": "3.12.4"
  }
 },
 "nbformat": 4,
 "nbformat_minor": 5
}
