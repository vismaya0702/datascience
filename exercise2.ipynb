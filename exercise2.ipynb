{
 "cells": [
  {
   "cell_type": "markdown",
   "id": "2ab6b4b7",
   "metadata": {},
   "source": [
    "To perform dot product of 2 matrices\n"
   ]
  },
  {
   "cell_type": "code",
   "execution_count": 4,
   "id": "3fd25be4",
   "metadata": {},
   "outputs": [],
   "source": [
    "import numpy as np\n"
   ]
  },
  {
   "cell_type": "code",
   "execution_count": 7,
   "id": "31d3b30e",
   "metadata": {},
   "outputs": [
    {
     "name": "stdout",
     "output_type": "stream",
     "text": [
      "Dot product of matrices:\n",
      "[[23 31]\n",
      " [50 76]]\n"
     ]
    }
   ],
   "source": [
    "a = np.array([[1, 2, 3],[4, 5, 6]])\n",
    "b = np.array([[1, 3],[2, 8],[6, 4]])\n",
    "print(\"Dot product of matrices:\")\n",
    "print(np.dot(a, b))\n"
   ]
  },
  {
   "cell_type": "markdown",
   "id": "e7f56aaf",
   "metadata": {},
   "source": [
    "To perform transpose of a matrix"
   ]
  },
  {
   "cell_type": "code",
   "execution_count": 8,
   "id": "310eae72",
   "metadata": {},
   "outputs": [
    {
     "name": "stdout",
     "output_type": "stream",
     "text": [
      "Transpose of the matrix :\n",
      "[[1 2 9]\n",
      " [3 5 4]\n",
      " [5 8 1]]\n"
     ]
    }
   ],
   "source": [
    "a=np.array([[1,3,5],[2,5,8],[9,4,1]])\n",
    "print(\"Transpose of the matrix :\")\n",
    "print(np.transpose(a))"
   ]
  },
  {
   "cell_type": "markdown",
   "id": "616e6057",
   "metadata": {},
   "source": [
    "To get sum of diagonal elements of a matrix"
   ]
  },
  {
   "cell_type": "code",
   "execution_count": 9,
   "id": "127d4756",
   "metadata": {},
   "outputs": [
    {
     "name": "stdout",
     "output_type": "stream",
     "text": [
      "Sum of diagonal elements of the matrix:\n",
      "14\n"
     ]
    }
   ],
   "source": [
    "a=np.array([[4,2,6],[3,2,6],[1,3,8]])\n",
    "print(\"Sum of diagonal elements of the matrix:\")\n",
    "print(np.trace(a))"
   ]
  },
  {
   "cell_type": "markdown",
   "id": "4e98b1ac",
   "metadata": {},
   "source": [
    "To find the rank of a matrix"
   ]
  },
  {
   "cell_type": "code",
   "execution_count": 11,
   "id": "db39a889",
   "metadata": {},
   "outputs": [
    {
     "name": "stdout",
     "output_type": "stream",
     "text": [
      "Rank of the matrix:\n",
      "3\n"
     ]
    }
   ],
   "source": [
    "a=np.array([[1,3,5],[3,2,6],[3,8,5]])\n",
    "print(\"Rank of the matrix:\")\n",
    "print(np.linalg.matrix_rank(a))"
   ]
  },
  {
   "cell_type": "markdown",
   "id": "4d394f8e",
   "metadata": {},
   "source": [
    "To find the determinant of a matrix"
   ]
  },
  {
   "cell_type": "code",
   "execution_count": 12,
   "id": "cf305c85",
   "metadata": {},
   "outputs": [
    {
     "name": "stdout",
     "output_type": "stream",
     "text": [
      "Determinant of the matrix:\n",
      "-139.99999999999994\n"
     ]
    }
   ],
   "source": [
    "a=np.array([[1,3,5],[2,6,3],[8,4,7]])\n",
    "print(\"Determinant of the matrix:\")\n",
    "print(np.linalg.det(a))"
   ]
  },
  {
   "cell_type": "markdown",
   "id": "f3a096e2",
   "metadata": {},
   "source": [
    "To find the Inverse of a matrix"
   ]
  },
  {
   "cell_type": "code",
   "execution_count": 13,
   "id": "587ee415",
   "metadata": {},
   "outputs": [
    {
     "name": "stdout",
     "output_type": "stream",
     "text": [
      "Inverse of the matrix:\n",
      "[[-0.01587302  0.19047619 -0.11111111]\n",
      " [-0.25396825  0.04761905  0.22222222]\n",
      " [ 0.68253968 -0.19047619 -0.22222222]]\n"
     ]
    }
   ],
   "source": [
    "a=np.array([[2,4,3],[6,5,2],[1,8,3]])\n",
    "print(\"Inverse of the matrix:\")\n",
    "print(np.linalg.inv(a))"
   ]
  },
  {
   "cell_type": "markdown",
   "id": "e61dc9b0",
   "metadata": {},
   "source": [
    "To find the eigen values and eigen vectors"
   ]
  },
  {
   "cell_type": "code",
   "execution_count": 14,
   "id": "4ca4d3c9",
   "metadata": {},
   "outputs": [
    {
     "name": "stdout",
     "output_type": "stream",
     "text": [
      "Eigen vectors :\n",
      "EigResult(eigenvalues=array([12.43259165, -3.82520759, -2.60738406]), eigenvectors=array([[-0.51537437, -0.63697969, -0.14943614],\n",
      "       [-0.54876956,  0.13492267, -0.53005273],\n",
      "       [-0.65821063,  0.75898139,  0.83469333]]))\n",
      "Eigen values:\n",
      "[12.43259165 -3.82520759 -2.60738406]\n"
     ]
    }
   ],
   "source": [
    "a=np.array([[2,5,4],[6,2,4],[8,5,2]])\n",
    "print(\"Eigen vectors :\")\n",
    "print(np.linalg.eig(a))\n",
    "print(\"Eigen values:\")\n",
    "print(np.linalg.eigvals(a))\n"
   ]
  }
 ],
 "metadata": {
  "kernelspec": {
   "display_name": "base",
   "language": "python",
   "name": "python3"
  },
  "language_info": {
   "codemirror_mode": {
    "name": "ipython",
    "version": 3
   },
   "file_extension": ".py",
   "mimetype": "text/x-python",
   "name": "python",
   "nbconvert_exporter": "python",
   "pygments_lexer": "ipython3",
   "version": "3.12.4"
  }
 },
 "nbformat": 4,
 "nbformat_minor": 5
}
